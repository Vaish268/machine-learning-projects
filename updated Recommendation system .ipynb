{
 "cells": [
  {
   "cell_type": "markdown",
   "id": "8398888f",
   "metadata": {},
   "source": [
    "Recommendation System\n",
    "\n",
    "Data Description:\n",
    "\n",
    "Unique ID of each anime.\n",
    "Anime title.\n",
    "Anime broadcast type, such as TV, OVA, etc.\n",
    "anime genre.\n",
    "The number of episodes of each anime.\n",
    "The average rating for each anime compared to the number of users who gave ratings.\n",
    "\n",
    "\n",
    "Number of community members for each anime.\n",
    "Objective:\n",
    "The objective of this assignment is to implement a recommendation system using cosine similarity on an anime dataset. \n",
    "Dataset:\n",
    "Use the Anime Dataset which contains information about various anime, including their titles, genres,No.of episodes and user ratings etc.\n",
    "\n",
    "Tasks:\n",
    "\n",
    "Data Preprocessing:\n",
    "\n",
    "Load the dataset into a suitable data structure (e.g., pandas DataFrame).\n",
    "Handle missing values, if any.\n",
    "Explore the dataset to understand its structure and attributes.\n",
    "\n",
    "Feature Extraction:\n",
    "\n",
    "Decide on the features that will be used for computing similarity (e.g., genres, user ratings).\n",
    "Convert categorical features into numerical representations if necessary.\n",
    "Normalize numerical features if required.\n",
    "\n",
    "Recommendation System:\n",
    "\n",
    "Design a function to recommend anime based on cosine similarity.\n",
    "Given a target anime, recommend a list of similar anime based on cosine similarity scores.\n",
    "Experiment with different threshold values for similarity scores to adjust the recommendation list size.\n",
    "\n",
    "Evaluation:\n",
    "\n",
    "Split the dataset into training and testing sets.\n",
    "Evaluate the recommendation system using appropriate metrics such as precision, recall, and F1-score.\n",
    "Analyze the performance of the recommendation system and identify areas of improvement.\n",
    "\n"
   ]
  },
  {
   "cell_type": "code",
   "execution_count": 19,
   "id": "7610a360",
   "metadata": {},
   "outputs": [],
   "source": [
    "import pandas as pd\n",
    "from sklearn.preprocessing import MultiLabelBinarizer\n",
    "from sklearn.metrics.pairwise import cosine_similarity\n",
    "from sklearn.model_selection import train_test_split\n",
    "from sklearn.metrics import precision_score, recall_score, f1_score\n",
    "\n"
   ]
  },
  {
   "cell_type": "code",
   "execution_count": 2,
   "id": "6b13cccd",
   "metadata": {},
   "outputs": [
    {
     "name": "stdout",
     "output_type": "stream",
     "text": [
      "   anime_id                              name  \\\n",
      "0     32281                    Kimi no Na wa.   \n",
      "1      5114  Fullmetal Alchemist: Brotherhood   \n",
      "2     28977                          Gintama°   \n",
      "3      9253                       Steins;Gate   \n",
      "4      9969                     Gintama&#039;   \n",
      "\n",
      "                                               genre   type episodes  rating  \\\n",
      "0               Drama, Romance, School, Supernatural  Movie        1    9.37   \n",
      "1  Action, Adventure, Drama, Fantasy, Magic, Mili...     TV       64    9.26   \n",
      "2  Action, Comedy, Historical, Parody, Samurai, S...     TV       51    9.25   \n",
      "3                                   Sci-Fi, Thriller     TV       24    9.17   \n",
      "4  Action, Comedy, Historical, Parody, Samurai, S...     TV       51    9.16   \n",
      "\n",
      "   members  \n",
      "0   200630  \n",
      "1   793665  \n",
      "2   114262  \n",
      "3   673572  \n",
      "4   151266  \n",
      "<class 'pandas.core.frame.DataFrame'>\n",
      "RangeIndex: 12294 entries, 0 to 12293\n",
      "Data columns (total 7 columns):\n",
      " #   Column    Non-Null Count  Dtype  \n",
      "---  ------    --------------  -----  \n",
      " 0   anime_id  12294 non-null  int64  \n",
      " 1   name      12294 non-null  object \n",
      " 2   genre     12232 non-null  object \n",
      " 3   type      12269 non-null  object \n",
      " 4   episodes  12294 non-null  object \n",
      " 5   rating    12064 non-null  float64\n",
      " 6   members   12294 non-null  int64  \n",
      "dtypes: float64(1), int64(2), object(4)\n",
      "memory usage: 672.5+ KB\n",
      "None\n"
     ]
    }
   ],
   "source": [
    "\n",
    "\n",
    "# Load the dataset\n",
    "anime_data = pd.read_csv('anime.csv')\n",
    "\n",
    "# Display the first few rows of the dataset and check its structure\n",
    "print(anime_data.head())\n",
    "print(anime_data.info())"
   ]
  },
  {
   "cell_type": "code",
   "execution_count": 3,
   "id": "6644d710",
   "metadata": {},
   "outputs": [
    {
     "name": "stdout",
     "output_type": "stream",
     "text": [
      "           anime_id        rating       members\n",
      "count  12017.000000  12017.000000  1.201700e+04\n",
      "mean   13638.001165      6.478264  1.834888e+04\n",
      "std    11231.076675      1.023857  5.537250e+04\n",
      "min        1.000000      1.670000  1.200000e+01\n",
      "25%     3391.000000      5.890000  2.250000e+02\n",
      "50%     9959.000000      6.570000  1.552000e+03\n",
      "75%    23729.000000      7.180000  9.588000e+03\n",
      "max    34519.000000     10.000000  1.013917e+06\n",
      "genre\n",
      "Hentai                                                   816\n",
      "Comedy                                                   521\n",
      "Music                                                    297\n",
      "Kids                                                     197\n",
      "Comedy, Slice of Life                                    174\n",
      "                                                        ... \n",
      "Adventure, Comedy, Horror, Shounen, Supernatural           1\n",
      "Comedy, Harem, Romance, School, Seinen, Slice of Life      1\n",
      "Comedy, Ecchi, Sci-Fi, Shounen                             1\n",
      "Adventure, Shounen, Sports                                 1\n",
      "Hentai, Slice of Life                                      1\n",
      "Name: count, Length: 3229, dtype: int64\n"
     ]
    }
   ],
   "source": [
    "# Handle missing values\n",
    "anime_data = anime_data.dropna()\n",
    "\n",
    "# Explore the dataset\n",
    "print(anime_data.describe())\n",
    "print(anime_data['genre'].value_counts())"
   ]
  },
  {
   "cell_type": "code",
   "execution_count": 16,
   "id": "e240abae",
   "metadata": {},
   "outputs": [
    {
     "name": "stdout",
     "output_type": "stream",
     "text": [
      "Genre Matrix:\n",
      "   Action  Adventure  Drama  Fantasy  Romance\n",
      "0       1          1      0        0        0\n",
      "1       0          0      1        0        1\n",
      "2       1          0      0        1        0\n",
      "\n",
      "Normalized Ratings:\n",
      "0    0.428571\n",
      "1    1.000000\n",
      "2    0.000000\n",
      "Name: rating, dtype: float64\n"
     ]
    }
   ],
   "source": [
    "\n",
    "\n",
    "# Assuming 'anime_data' is a pandas DataFrame with 'genre' and 'rating' columns\n",
    "anime_data = pd.DataFrame({\n",
    "    'genre': ['Action, Adventure', 'Romance, Drama', 'Action, Fantasy'],\n",
    "    'rating': [7.5, 8.3, 6.9]\n",
    "})\n",
    "\n",
    "# Convert genres to a list of genres\n",
    "anime_data['genre'] = anime_data['genre'].apply(lambda x: x.split(', '))\n",
    "\n",
    "# Convert genres to numerical representation\n",
    "mlb = MultiLabelBinarizer()\n",
    "genre_matrix = mlb.fit_transform(anime_data['genre'])\n",
    "\n",
    "# Normalize numerical features if required\n",
    "anime_data['rating'] = (anime_data['rating'] - anime_data['rating'].min()) / (anime_data['rating'].max() - anime_data['rating'].min())\n",
    "\n",
    "# Display the results\n",
    "print(\"Genre Matrix:\")\n",
    "print(pd.DataFrame(genre_matrix, columns=mlb.classes_))\n",
    "\n",
    "print(\"\\nNormalized Ratings:\")\n",
    "print(anime_data['rating'])\n"
   ]
  },
  {
   "cell_type": "code",
   "execution_count": 8,
   "id": "24c14807",
   "metadata": {},
   "outputs": [
    {
     "data": {
      "text/html": [
       "<div>\n",
       "<style scoped>\n",
       "    .dataframe tbody tr th:only-of-type {\n",
       "        vertical-align: middle;\n",
       "    }\n",
       "\n",
       "    .dataframe tbody tr th {\n",
       "        vertical-align: top;\n",
       "    }\n",
       "\n",
       "    .dataframe thead th {\n",
       "        text-align: right;\n",
       "    }\n",
       "</style>\n",
       "<table border=\"1\" class=\"dataframe\">\n",
       "  <thead>\n",
       "    <tr style=\"text-align: right;\">\n",
       "      <th></th>\n",
       "      <th>genre</th>\n",
       "      <th>rating</th>\n",
       "    </tr>\n",
       "  </thead>\n",
       "  <tbody>\n",
       "    <tr>\n",
       "      <th>0</th>\n",
       "      <td>[Action, Adventure]</td>\n",
       "      <td>0.428571</td>\n",
       "    </tr>\n",
       "    <tr>\n",
       "      <th>1</th>\n",
       "      <td>[Romance, Drama]</td>\n",
       "      <td>1.000000</td>\n",
       "    </tr>\n",
       "    <tr>\n",
       "      <th>2</th>\n",
       "      <td>[Action, Fantasy]</td>\n",
       "      <td>0.000000</td>\n",
       "    </tr>\n",
       "  </tbody>\n",
       "</table>\n",
       "</div>"
      ],
      "text/plain": [
       "                 genre    rating\n",
       "0  [Action, Adventure]  0.428571\n",
       "1     [Romance, Drama]  1.000000\n",
       "2    [Action, Fantasy]  0.000000"
      ]
     },
     "execution_count": 8,
     "metadata": {},
     "output_type": "execute_result"
    }
   ],
   "source": [
    "anime_data"
   ]
  },
  {
   "cell_type": "code",
   "execution_count": 18,
   "id": "d4acf793",
   "metadata": {},
   "outputs": [],
   "source": [
    "from sklearn.preprocessing import MultiLabelBinarizer\n",
    "\n",
    "# Check if genres are still strings before splitting\n",
    "if isinstance(anime_data['genre'].iloc[0], str):\n",
    "    # Convert genres to a list of genres\n",
    "    anime_data['genre'] = anime_data['genre'].apply(lambda x: x.split(', '))\n",
    "\n",
    "# Convert genres to numerical representation\n",
    "mlb = MultiLabelBinarizer()\n",
    "genre_matrix = mlb.fit_transform(anime_data['genre'])\n",
    "\n",
    "# Normalize numerical features if required\n",
    "anime_data['rating'] = (anime_data['rating'] - anime_data['rating'].min()) / (anime_data['rating'].max() - anime_data['rating'].min())"
   ]
  },
  {
   "cell_type": "code",
   "execution_count": 20,
   "id": "c4ca7284",
   "metadata": {},
   "outputs": [
    {
     "name": "stdout",
     "output_type": "stream",
     "text": [
      "Precision: 1.0\n",
      "Recall: 1.0\n",
      "F1 Score: 1.0\n"
     ]
    }
   ],
   "source": [
    "# Split the dataset into training and testing sets\n",
    "train_data, test_data = train_test_split(anime_data, test_size=0.2, random_state=42)\n",
    "\n",
    "# Implement evaluation logic here\n",
    "# Example placeholder:\n",
    "y_true = [1] * len(test_data)  # Placeholder for true labels\n",
    "y_pred = [1] * len(test_data)  # Placeholder for predicted labels\n",
    "\n",
    "print('Precision:', precision_score(y_true, y_pred, average='macro'))\n",
    "print('Recall:', recall_score(y_true, y_pred, average='macro'))\n",
    "print('F1 Score:', f1_score(y_true, y_pred, average='macro'))\n"
   ]
  },
  {
   "cell_type": "code",
   "execution_count": null,
   "id": "a02e9c8a",
   "metadata": {},
   "outputs": [],
   "source": []
  }
 ],
 "metadata": {
  "kernelspec": {
   "display_name": "Python 3 (ipykernel)",
   "language": "python",
   "name": "python3"
  },
  "language_info": {
   "codemirror_mode": {
    "name": "ipython",
    "version": 3
   },
   "file_extension": ".py",
   "mimetype": "text/x-python",
   "name": "python",
   "nbconvert_exporter": "python",
   "pygments_lexer": "ipython3",
   "version": "3.11.5"
  }
 },
 "nbformat": 4,
 "nbformat_minor": 5
}
