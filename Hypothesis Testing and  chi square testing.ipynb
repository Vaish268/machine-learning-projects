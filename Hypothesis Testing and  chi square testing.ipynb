{
 "cells": [
  {
   "cell_type": "markdown",
   "id": "46816f3c",
   "metadata": {},
   "source": [
    "# Chi-Square test\n",
    "Association between Device Type and Customer Satisfaction\n",
    "Background:\n",
    "Mizzare Corporation has collected data on customer satisfaction levels for two types of smart home devices: Smart Thermostats and Smart Lights. They want to determine if there's a significant association between the type of device purchased and the customer's satisfaction level.\n",
    "Data Provided:\n",
    "The data is summarized in a contingency table showing the counts of customers in each satisfaction level for both types of devices:\n",
    "\n",
    "\n",
    "Objective:\n",
    "To use the Chi-Square test for independence to determine if there's a significant association between the type of smart home device purchased (Smart Thermostats vs. Smart Lights) and the customer satisfaction level.\n",
    "Assignment Tasks:\n",
    "1. State the Hypotheses:\n",
    "2. Compute the Chi-Square Statistic:\n",
    "3. Determine the Critical Value:\n",
    "Using the significance level (alpha) of 0.05 and the degrees of freedom (which is the number of categories minus 1)\n",
    "4. Make a Decision:\n",
    "Compare the Chi-Square statistic with the critical value to decide whether to reject the null hypothesis."
   ]
  },
  {
   "cell_type": "code",
   "execution_count": 1,
   "id": "8afe3687",
   "metadata": {},
   "outputs": [],
   "source": [
    "import numpy as np\n",
    "import scipy.stats as stats"
   ]
  },
  {
   "cell_type": "code",
   "execution_count": 2,
   "id": "5de627a9",
   "metadata": {},
   "outputs": [],
   "source": [
    "# Data provided\n",
    "observed = np.array([[50, 70],\n",
    "                     [80, 100],\n",
    "                     [60, 90],\n",
    "                     [30, 50],\n",
    "                     [20, 50]])"
   ]
  },
  {
   "cell_type": "markdown",
   "id": "a09c8a29",
   "metadata": {},
   "source": [
    "# 1. State the Hypotheses:\n",
    "# Null Hypothesis (H0): There is no significant association between the type of smart home device purchased and customer satisfaction level.\n",
    "# Alternative Hypothesis (H1): There is a significant association between the type of smart home device purchased and customer satisfaction level."
   ]
  },
  {
   "cell_type": "code",
   "execution_count": 3,
   "id": "69ddf094",
   "metadata": {},
   "outputs": [],
   "source": [
    "# 2. Compute the Chi-Square Statistic:\n",
    "chi2, p, dof, expected = stats.chi2_contingency(observed)"
   ]
  },
  {
   "cell_type": "code",
   "execution_count": 4,
   "id": "f3949373",
   "metadata": {},
   "outputs": [],
   "source": [
    "# 3. Determine the Critical Value:\n",
    "alpha = 0.05\n",
    "critical_value = stats.chi2.ppf(1 - alpha, dof)\n",
    "\n",
    "# 4. Make a Decision:\n",
    "# Compare the Chi-Square statistic with the critical value\n",
    "decision = \"reject\" if chi2 > critical_value else \"fail to reject\""
   ]
  },
  {
   "cell_type": "code",
   "execution_count": 5,
   "id": "86518f20",
   "metadata": {},
   "outputs": [
    {
     "name": "stdout",
     "output_type": "stream",
     "text": [
      "Chi-Square Test for Independence\n",
      "Observed Data:\n",
      "[[ 50  70]\n",
      " [ 80 100]\n",
      " [ 60  90]\n",
      " [ 30  50]\n",
      " [ 20  50]]\n",
      "Expected Data (under H0):\n",
      "[[ 48.  72.]\n",
      " [ 72. 108.]\n",
      " [ 60.  90.]\n",
      " [ 32.  48.]\n",
      " [ 28.  42.]]\n",
      "Chi-Square Statistic: 5.64\n",
      "Degrees of Freedom: 4\n",
      "Critical Value at alpha=0.05: 9.49\n",
      "P-value: 0.2278\n",
      "Decision: fail to reject the null hypothesis.\n",
      "Conclusion: There is no significant association between the type of smart home device purchased and customer satisfaction level.\n"
     ]
    }
   ],
   "source": [
    "# Report\n",
    "print(\"Chi-Square Test for Independence\")\n",
    "print(f\"Observed Data:\\n{observed}\")\n",
    "print(f\"Expected Data (under H0):\\n{expected}\")\n",
    "print(f\"Chi-Square Statistic: {chi2:.2f}\")\n",
    "print(f\"Degrees of Freedom: {dof}\")\n",
    "print(f\"Critical Value at alpha={alpha}: {critical_value:.2f}\")\n",
    "print(f\"P-value: {p:.4f}\")\n",
    "print(f\"Decision: {decision} the null hypothesis.\")\n",
    "\n",
    "if decision == \"reject\":\n",
    "    print(\"Conclusion: There is a significant association between the type of smart home device purchased and customer satisfaction level.\")\n",
    "else:\n",
    "    print(\"Conclusion: There is no significant association between the type of smart home device purchased and customer satisfaction level.\")"
   ]
  },
  {
   "cell_type": "markdown",
   "id": "50c51e04",
   "metadata": {},
   "source": [
    "# Hypothesis Testing\n",
    "Background:\n",
    "Bombay hospitality Ltd. operates a franchise model for producing exotic Norwegian dinners throughout New England. The operating cost for a franchise in a week (W) is given by the equation W = $1,000 + $5X, where X represents the number of units produced in a week. Recent feedback from restaurant owners suggests that this cost model may no longer be accurate, as their observed weekly operating costs are higher.\n",
    "Objective:\n",
    "To investigate the restaurant owners' claim about the increase in weekly operating costs using hypothesis testing.\n",
    "Data Provided:\n",
    "\t•\tThe theoretical weekly operating cost model: W = $1,000 + $5X\n",
    "\t•\tSample of 25 restaurants with a mean weekly cost of Rs. 3,050\n",
    "\t•\tNumber of units produced in a week (X) follows a normal distribution with a mean (μ) of 600 units and a standard deviation (σ) of 25 units\n",
    "Assignment Tasks:\n",
    "1. State the Hypotheses statement:\n",
    "2. Calculate the Test Statistic:\n",
    "Use the following formula to calculate the test statistic (t):\n",
    "where:\n",
    "\t•\tˉxˉ = sample mean weekly cost (Rs. 3,050)\n",
    "\t•\tμ = theoretical mean weekly cost according to the cost model (W = $1,000 + $5X for X = 600 units)\n",
    "\t•\tσ = 5*25 units\n",
    "\t•\tn = sample size (25 restaurants)\n",
    "3. Determine the Critical Value:\n",
    "Using the alpha level of 5% (α = 0.05), determine the critical value from the standard normal (Z) distribution table.\n",
    "4. Make a Decision:\n",
    "Compare the test statistic with the critical value to decide whether to reject the null hypothesis.\n",
    "5. Conclusion:\n",
    "Based on the decision in step 4, conclude whether there is strong evidence to support the restaurant owners' claim that the weekly operating costs are higher than the model suggests.\n"
   ]
  },
  {
   "cell_type": "code",
   "execution_count": 6,
   "id": "28af08d0",
   "metadata": {},
   "outputs": [],
   "source": [
    "import numpy as np\n",
    "import scipy.stats as stats"
   ]
  },
  {
   "cell_type": "markdown",
   "id": "e31d15a1",
   "metadata": {},
   "source": [
    "# 1. State the Hypotheses:\n",
    "# Null Hypothesis (H0): The theoretical mean weekly cost model is accurate.\n",
    "# Alternative Hypothesis (H1): The mean weekly cost is higher than the theoretical mean weekly cost model."
   ]
  },
  {
   "cell_type": "code",
   "execution_count": 7,
   "id": "8a851681",
   "metadata": {},
   "outputs": [],
   "source": [
    "# Given data\n",
    "sample_mean = 3050  # Sample mean weekly cost\n",
    "theoretical_mean_cost_model = 1000 + 5 * 600  # Theoretical mean weekly cost\n",
    "standard_deviation_units = 25  # Standard deviation of units produced\n",
    "sample_size = 25  # Sample size\n",
    "\n",
    "# Calculate the theoretical mean weekly cost\n",
    "theoretical_mean = theoretical_mean_cost_model\n",
    "# Calculate the population standard deviation for weekly cost\n",
    "sigma = 5 * standard_deviation_units\n"
   ]
  },
  {
   "cell_type": "code",
   "execution_count": 8,
   "id": "2b3b5521",
   "metadata": {},
   "outputs": [],
   "source": [
    "# 2. Calculate the Test Statistic:\n",
    "# Test statistic (t) formula: (sample_mean - theoretical_mean) / (sigma / sqrt(n))\n",
    "test_statistic = (sample_mean - theoretical_mean) / (sigma / np.sqrt(sample_size))\n"
   ]
  },
  {
   "cell_type": "code",
   "execution_count": 9,
   "id": "241c2e73",
   "metadata": {},
   "outputs": [],
   "source": [
    "\n",
    "# 3. Determine the Critical Value:\n",
    "alpha = 0.05\n",
    "# Since we are conducting a one-tailed test, we use the alpha level directly to get the critical value from the Z-distribution table.\n",
    "critical_value = stats.norm.ppf(1 - alpha)\n"
   ]
  },
  {
   "cell_type": "code",
   "execution_count": 10,
   "id": "219c9a7a",
   "metadata": {},
   "outputs": [],
   "source": [
    "# 4. Make a Decision:\n",
    "# Compare the test statistic with the critical value to decide whether to reject the null hypothesis.\n",
    "decision = \"reject\" if test_statistic > critical_value else \"fail to reject\"\n"
   ]
  },
  {
   "cell_type": "code",
   "execution_count": 11,
   "id": "ba76eb57",
   "metadata": {},
   "outputs": [],
   "source": [
    "# 5. Conclusion:\n",
    "conclusion = (\n",
    "    \"There is strong evidence to support the restaurant owners' claim that the weekly operating costs are higher than the model suggests.\"\n",
    "    if decision == \"reject\"\n",
    "    else \"There is not enough evidence to support the restaurant owners' claim that the weekly operating costs are higher than the model suggests.\"\n",
    ")\n"
   ]
  },
  {
   "cell_type": "code",
   "execution_count": 12,
   "id": "b2dc235e",
   "metadata": {},
   "outputs": [
    {
     "name": "stdout",
     "output_type": "stream",
     "text": [
      "Hypothesis Testing for Weekly Operating Costs\n",
      "Sample Mean: 3050\n",
      "Theoretical Mean: 4000\n",
      "Population Standard Deviation: 125\n",
      "Sample Size: 25\n",
      "Test Statistic: -38.00\n",
      "Critical Value at alpha=0.05: 1.64\n",
      "Decision: fail to reject the null hypothesis.\n",
      "Conclusion: There is not enough evidence to support the restaurant owners' claim that the weekly operating costs are higher than the model suggests.\n"
     ]
    }
   ],
   "source": [
    "# Report\n",
    "print(\"Hypothesis Testing for Weekly Operating Costs\")\n",
    "print(f\"Sample Mean: {sample_mean}\")\n",
    "print(f\"Theoretical Mean: {theoretical_mean}\")\n",
    "print(f\"Population Standard Deviation: {sigma}\")\n",
    "print(f\"Sample Size: {sample_size}\")\n",
    "print(f\"Test Statistic: {test_statistic:.2f}\")\n",
    "print(f\"Critical Value at alpha={alpha}: {critical_value:.2f}\")\n",
    "print(f\"Decision: {decision} the null hypothesis.\")\n",
    "print(\"Conclusion:\", conclusion)"
   ]
  },
  {
   "cell_type": "code",
   "execution_count": null,
   "id": "5095e3d5",
   "metadata": {},
   "outputs": [],
   "source": []
  }
 ],
 "metadata": {
  "kernelspec": {
   "display_name": "Python 3 (ipykernel)",
   "language": "python",
   "name": "python3"
  },
  "language_info": {
   "codemirror_mode": {
    "name": "ipython",
    "version": 3
   },
   "file_extension": ".py",
   "mimetype": "text/x-python",
   "name": "python",
   "nbconvert_exporter": "python",
   "pygments_lexer": "ipython3",
   "version": "3.11.5"
  }
 },
 "nbformat": 4,
 "nbformat_minor": 5
}
